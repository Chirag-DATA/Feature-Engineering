{
 "cells": [
  {
   "cell_type": "code",
   "execution_count": 7,
   "id": "c39492f9",
   "metadata": {},
   "outputs": [],
   "source": [
    "import pandas as pd\n",
    "import matplotlib.pyplot as plt"
   ]
  },
  {
   "cell_type": "code",
   "execution_count": 3,
   "id": "7ddf6ac9",
   "metadata": {},
   "outputs": [
    {
     "data": {
      "text/html": [
       "<div>\n",
       "<style scoped>\n",
       "    .dataframe tbody tr th:only-of-type {\n",
       "        vertical-align: middle;\n",
       "    }\n",
       "\n",
       "    .dataframe tbody tr th {\n",
       "        vertical-align: top;\n",
       "    }\n",
       "\n",
       "    .dataframe thead th {\n",
       "        text-align: right;\n",
       "    }\n",
       "</style>\n",
       "<table border=\"1\" class=\"dataframe\">\n",
       "  <thead>\n",
       "    <tr style=\"text-align: right;\">\n",
       "      <th></th>\n",
       "      <th>Height</th>\n",
       "      <th>Weight</th>\n",
       "    </tr>\n",
       "  </thead>\n",
       "  <tbody>\n",
       "    <tr>\n",
       "      <th>0</th>\n",
       "      <td>150</td>\n",
       "      <td>50</td>\n",
       "    </tr>\n",
       "    <tr>\n",
       "      <th>1</th>\n",
       "      <td>160</td>\n",
       "      <td>60</td>\n",
       "    </tr>\n",
       "    <tr>\n",
       "      <th>2</th>\n",
       "      <td>170</td>\n",
       "      <td>70</td>\n",
       "    </tr>\n",
       "    <tr>\n",
       "      <th>3</th>\n",
       "      <td>180</td>\n",
       "      <td>80</td>\n",
       "    </tr>\n",
       "    <tr>\n",
       "      <th>4</th>\n",
       "      <td>190</td>\n",
       "      <td>90</td>\n",
       "    </tr>\n",
       "    <tr>\n",
       "      <th>5</th>\n",
       "      <td>200</td>\n",
       "      <td>100</td>\n",
       "    </tr>\n",
       "  </tbody>\n",
       "</table>\n",
       "</div>"
      ],
      "text/plain": [
       "   Height  Weight\n",
       "0     150      50\n",
       "1     160      60\n",
       "2     170      70\n",
       "3     180      80\n",
       "4     190      90\n",
       "5     200     100"
      ]
     },
     "execution_count": 3,
     "metadata": {},
     "output_type": "execute_result"
    }
   ],
   "source": [
    "# Dataset\n",
    "data = {\"Height\":[150,160,170,180,190,200],\n",
    "        \"Weight\":[50,60,70,80,90,100]}\n",
    "df = pd.DataFrame(data)\n",
    "df"
   ]
  },
  {
   "cell_type": "code",
   "execution_count": 4,
   "id": "ab3e7995",
   "metadata": {},
   "outputs": [
    {
     "name": "stdout",
     "output_type": "stream",
     "text": [
      "\n",
      "Normalized Data:\n",
      "    Height  Weight\n",
      "0     0.0     0.0\n",
      "1     0.2     0.2\n",
      "2     0.4     0.4\n",
      "3     0.6     0.6\n",
      "4     0.8     0.8\n",
      "5     1.0     1.0\n"
     ]
    }
   ],
   "source": [
    "# Apply Min-Max Normalization\n",
    "from sklearn.preprocessing import MinMaxScaler\n",
    "\n",
    "scaler = MinMaxScaler()\n",
    "normalized = scaler.fit_transform(df)\n",
    "normalized_df = pd.DataFrame(normalized, columns=df.columns)\n",
    "\n",
    "print(\"\\nNormalized Data:\\n\", normalized_df)"
   ]
  },
  {
   "cell_type": "code",
   "execution_count": 5,
   "id": "1c31195f",
   "metadata": {},
   "outputs": [
    {
     "name": "stdout",
     "output_type": "stream",
     "text": [
      "\n",
      "MaxAbs Normalized Data:\n",
      "    Height  Weight\n",
      "0    0.75     0.5\n",
      "1    0.80     0.6\n",
      "2    0.85     0.7\n",
      "3    0.90     0.8\n",
      "4    0.95     0.9\n",
      "5    1.00     1.0\n"
     ]
    }
   ],
   "source": [
    "#Applying MaxAbsScaler\n",
    "\n",
    "from sklearn.preprocessing import MaxAbsScaler\n",
    "\n",
    "scaler = MaxAbsScaler()\n",
    "maxabs = scaler.fit_transform(df)\n",
    "maxabs_df = pd.DataFrame(maxabs, columns=df.columns)\n",
    "\n",
    "print(\"\\nMaxAbs Normalized Data:\\n\", maxabs_df)\n"
   ]
  },
  {
   "cell_type": "code",
   "execution_count": 6,
   "id": "b27d4ac7",
   "metadata": {},
   "outputs": [
    {
     "name": "stdout",
     "output_type": "stream",
     "text": [
      "\n",
      "Unit Vector Normalized Data:\n",
      "      Height    Weight\n",
      "0  0.948683  0.316228\n",
      "1  0.936329  0.351123\n",
      "2  0.924678  0.380750\n",
      "3  0.913812  0.406138\n",
      "4  0.903738  0.428086\n",
      "5  0.894427  0.447214\n"
     ]
    }
   ],
   "source": [
    "# Applying UnitVectorScaler\n",
    "\n",
    "from sklearn.preprocessing import Normalizer\n",
    "\n",
    "scaler = Normalizer()\n",
    "unit_vec = scaler.fit_transform(df)\n",
    "unit_vec_df = pd.DataFrame(unit_vec, columns=df.columns)\n",
    "\n",
    "print(\"\\nUnit Vector Normalized Data:\\n\", unit_vec_df)\n"
   ]
  }
 ],
 "metadata": {
  "kernelspec": {
   "display_name": "Python 3",
   "language": "python",
   "name": "python3"
  },
  "language_info": {
   "codemirror_mode": {
    "name": "ipython",
    "version": 3
   },
   "file_extension": ".py",
   "mimetype": "text/x-python",
   "name": "python",
   "nbconvert_exporter": "python",
   "pygments_lexer": "ipython3",
   "version": "3.12.0"
  }
 },
 "nbformat": 4,
 "nbformat_minor": 5
}
